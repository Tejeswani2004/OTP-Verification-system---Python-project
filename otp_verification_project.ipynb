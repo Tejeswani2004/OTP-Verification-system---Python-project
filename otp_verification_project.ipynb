{
  "cells": [
    {
      "cell_type": "markdown",
      "source": [
        "# ***Python Capstone Project***"
      ],
      "metadata": {
        "id": "VKvtoMTPLvFB"
      }
    },
    {
      "cell_type": "markdown",
      "source": [
        "# **Project Title :** OTP Verification System\n",
        "\n",
        "\n",
        "---\n",
        "\n",
        "\n",
        "\n",
        "> Problem Statement:\n",
        "\n",
        "You are tasked with developing an OTP (One-Time Password) verification system\n",
        "in Python. The system should generate a 6-digit OTP and send it to the user's email address for verification. Upon receiving the OTP, the user should enter it into the system for validation. If the entered OTP matches the generated OTP, access should be granted; otherwise, access should be denied.\n",
        "\n",
        "\n",
        "---\n",
        "\n",
        "\n",
        "\n"
      ],
      "metadata": {
        "id": "5SVx_nOwKeYL"
      }
    },
    {
      "cell_type": "code",
      "source": [
        "import random\n",
        "# Implement a function to generate a 6-digit OTP randomly.\n",
        "def generate_otp():\n",
        "  return str(random.randint(100000, 999999))\n",
        "\n",
        "\n",
        "#Develop a function to simulate sending the OTP to the user's email address.\n",
        "def send_otp_email(email,otp):\n",
        " print(f\"OTP sent to {email}: {otp}\")\n",
        "\n",
        "\n",
        "\n",
        "# Create a function to prompt the user to enter the OTP received in their email.\n",
        "def get_user_otp():\n",
        "  while True:\n",
        "      user_otp = input(\"Enter the OTP received in your email: \")\n",
        "      if len(user_otp) == 6 and user_otp.isdigit():\n",
        "        return user_otp\n",
        "      else:\n",
        "        print(\"Invalid OTP. Please enter a 6-digit number.\")\n",
        "\n",
        "\n",
        "# Implement a function to verify if the entered OTP matches the generated OTP.\n",
        "def verify_otp(generated_otp,user_otp):\n",
        "  return generated_otp == user_otp\n",
        "\n",
        "def main():\n",
        "  email = input(\"Enter your email address: \")\n",
        "  generated_otp = generate_otp()\n",
        "\n",
        "  send_otp_email(email,generated_otp)\n",
        "  max_attempts = 3\n",
        "  attempts = 0\n",
        "  while attempts < max_attempts:\n",
        "    user_otp = get_user_otp()\n",
        "    if verify_otp(generated_otp,user_otp):\n",
        "      print(\"OTP verification successful!\")\n",
        "      break\n",
        "    else:\n",
        "      print(\"OTP verification failed. Please try again.\")\n",
        "      # Allow the user to retry OTP entry in case of incorrect input.\n",
        "      attempts += 1\n",
        "      print(f\"Incorrect OTP. {max_attempts - attempts} attempts left.\")\n",
        "  else:\n",
        "    print(\"Maximum number of attempts reached. OTP verification failed.\")\n",
        "\n",
        "if __name__ == \"__main__\":\n",
        "  main()\n"
      ],
      "metadata": {
        "id": "DlwYIuREcKi1",
        "colab": {
          "base_uri": "https://localhost:8080/"
        },
        "outputId": "4996854a-7404-4433-e403-044f4451a826"
      },
      "execution_count": null,
      "outputs": [
        {
          "output_type": "stream",
          "name": "stdout",
          "text": [
            "Enter your email address: ptejeswani2004@gmail.com\n",
            "OTP sent to ptejeswani2004@gmail.com: 412339\n",
            "Enter the OTP received in your email: 412339\n",
            "OTP verification successful!\n"
          ]
        }
      ]
    },
    {
      "cell_type": "code",
      "source": [
        "# REAL TIME OTP GENERATION\n",
        "# smtplib -- Module to send emails\n",
        "import smtplib\n",
        "# MIMEText--- Used to create email content with text.\n",
        "from email.mime.text import MIMEText\n",
        "\n",
        "import random\n",
        "# Implement a function to generate a 6-digit OTP randomly.\n",
        "def generate_otp():\n",
        "  return str(random.randint(100000, 999999))\n",
        "\n",
        "\n",
        "#Develop a function to simulate sending the OTP to the user's email address.\n",
        "def send_otp_email(email, otp):\n",
        "    sender_email = \"ptejeswani2004@gmail.com\"\n",
        "    sender_password = \"mmts ckho aucv uxgk\"\n",
        "\n",
        "    subject = \"Your OTP Code\"\n",
        "    body = f\"Your OTP is: {otp}\"\n",
        "\n",
        "    # Creating the email content\n",
        "    msg = MIMEText(body)\n",
        "    msg['Subject'] = subject\n",
        "    msg['From'] = sender_email\n",
        "    msg['To'] = email\n",
        "\n",
        "    # Connect to the SMTP server\n",
        "    try:\n",
        "        server = smtplib.SMTP(\"smtp.gmail.com\", 587)\n",
        "        server.starttls()  # Secure the connection\n",
        "        server.login(sender_email, sender_password)\n",
        "        server.sendmail(sender_email, email, msg.as_string())\n",
        "        server.quit()   # closes the connection\n",
        "        print(\"OTP has been sent to your email.\")\n",
        "    except Exception as e:\n",
        "        print(\"Error sending email:\", e)\n",
        "\n",
        "\n",
        "# Create a function to prompt the user to enter the OTP received in their email.\n",
        "def get_user_otp():\n",
        "  while True:\n",
        "      user_otp = input(\"Enter the OTP received in your email: \")\n",
        "      if len(user_otp) == 6 and user_otp.isdigit():\n",
        "        return user_otp\n",
        "      else:\n",
        "        print(\"Invalid OTP. Please enter a 6-digit number.\")\n",
        "\n",
        "\n",
        "# Implement a function to verify if the entered OTP matches the generated OTP.\n",
        "def verify_otp(generated_otp,user_otp):\n",
        "  return generated_otp == user_otp\n",
        "\n",
        "def main():\n",
        "  email = input(\"Enter your email address: \")\n",
        "  generated_otp = generate_otp()\n",
        "  send_otp_email(email,generated_otp)\n",
        "\n",
        "  max_attempts = 3\n",
        "  attempts = 0\n",
        "  while attempts < max_attempts:\n",
        "    user_otp = get_user_otp()\n",
        "    if verify_otp(generated_otp,user_otp):\n",
        "      print(\"OTP verification successful!\")\n",
        "      break\n",
        "    else:\n",
        "      print(\"OTP verification failed. Please try again.\")\n",
        "      # Allow the user to retry OTP entry in case of incorrect input.\n",
        "      attempts += 1\n",
        "      print(f\"Incorrect OTP. {max_attempts - attempts} attempts left.\")\n",
        "  else:\n",
        "    print(\"Maximum number of attempts reached. OTP verification failed.\")\n",
        "\n",
        "if __name__ == \"__main__\":\n",
        "  main()\n",
        "\n"
      ],
      "metadata": {
        "id": "UhAGB_7VcK3Y",
        "colab": {
          "base_uri": "https://localhost:8080/"
        },
        "outputId": "013d3700-a59d-45b3-da39-4e8fb342764d"
      },
      "execution_count": null,
      "outputs": [
        {
          "output_type": "stream",
          "name": "stdout",
          "text": [
            "Enter your email address: ptejeswani2004@gmail.com\n",
            "OTP has been sent to your email.\n",
            "Enter the OTP received in your email: 393032\n",
            "OTP verification successful!\n"
          ]
        }
      ]
    },
    {
      "cell_type": "code",
      "source": [],
      "metadata": {
        "id": "KgKRe_RgcLNC"
      },
      "execution_count": null,
      "outputs": []
    }
  ],
  "metadata": {
    "colab": {
      "provenance": []
    },
    "kernelspec": {
      "display_name": "Python 3",
      "name": "python3"
    },
    "language_info": {
      "name": "python"
    }
  },
  "nbformat": 4,
  "nbformat_minor": 0
}